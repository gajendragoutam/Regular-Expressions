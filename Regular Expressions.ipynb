{
 "cells": [
  {
   "cell_type": "code",
   "execution_count": 1,
   "id": "acf065b8",
   "metadata": {},
   "outputs": [],
   "source": [
    "#Question 1-  Write a Python program to replace all occurrences of a space, comma, or dot with a colon."
   ]
  },
  {
   "cell_type": "code",
   "execution_count": 2,
   "id": "095af9d1",
   "metadata": {},
   "outputs": [
    {
     "name": "stdout",
     "output_type": "stream",
     "text": [
      "Python:Exercises::PHP:exercises::\n"
     ]
    }
   ],
   "source": [
    "\n",
    "\n",
    "import pandas as pd\n",
    "import re\n",
    "\n",
    "Text  =  \"Python Exercises, PHP exercises. \"\n",
    "output  =  re.sub(r'[ ,.]', ':', Text)\n",
    "print(output)\n"
   ]
  },
  {
   "cell_type": "code",
   "execution_count": 3,
   "id": "5198043c",
   "metadata": {},
   "outputs": [],
   "source": [
    "# Question 2-  Create a dataframe using the dictionary below and remove everything\n",
    "#               (commas (,), !, XXXX, ;, etc.) from the columns except words."
   ]
  },
  {
   "cell_type": "code",
   "execution_count": 4,
   "id": "db17aecc",
   "metadata": {},
   "outputs": [
    {
     "name": "stdout",
     "output_type": "stream",
     "text": [
      "            SUMMARY\n",
      "0       hello world\n",
      "1              test\n",
      "2  123four five six\n"
     ]
    }
   ],
   "source": [
    "\n",
    "\n",
    "data = {'SUMMARY': ['hello, world!', 'XXXXX test', '123four, five:; six...']}\n",
    "\n",
    "df = pd.DataFrame(data)\n",
    "\n",
    "def clean_text(text):\n",
    "    text = re.sub(r'XXXXX', '', text)  \n",
    "    text = re.sub(r'[^\\w\\s]', '', text)  \n",
    "    return text.strip()\n",
    "\n",
    "df['SUMMARY'] = df['SUMMARY'].apply(clean_text)\n",
    "\n",
    "print(df)\n"
   ]
  },
  {
   "cell_type": "code",
   "execution_count": 5,
   "id": "1a0953ba",
   "metadata": {},
   "outputs": [],
   "source": [
    "#Question 3- Create a function in python to find all words that are at least 4 characters long in a string.\n",
    "#            The use of the re.compile() method is mandatory."
   ]
  },
  {
   "cell_type": "code",
   "execution_count": null,
   "id": "d9bac073",
   "metadata": {},
   "outputs": [],
   "source": []
  },
  {
   "cell_type": "code",
   "execution_count": 6,
   "id": "05ce2e0b",
   "metadata": {},
   "outputs": [
    {
     "name": "stdout",
     "output_type": "stream",
     "text": [
      "['According', 'study', 'Titan', 'Travel', 'India', 'most', 'beautiful', 'country', 'world']\n"
     ]
    }
   ],
   "source": [
    "text = \"According to a study by Titan Travel, India is the most beautiful country in the world\"\n",
    "compiler = re.compile(r'\\b\\w{4,}\\b')\n",
    "find = compiler.findall(text)\n",
    "print(find)"
   ]
  },
  {
   "cell_type": "code",
   "execution_count": 7,
   "id": "bb7ea136",
   "metadata": {},
   "outputs": [],
   "source": [
    "#Question 4- Create a function in python to find all three, four, and five character words in a string. \n",
    "#             The use of the re.compile() method is mandatory.\n",
    "\n"
   ]
  },
  {
   "cell_type": "code",
   "execution_count": 8,
   "id": "650f0e68",
   "metadata": {},
   "outputs": [
    {
     "name": "stdout",
     "output_type": "stream",
     "text": [
      "['study', 'Titan', 'India', 'the', 'most', 'the', 'world']\n"
     ]
    }
   ],
   "source": [
    "\n",
    "text = \"According to a study by Titan Travel, India is the most beautiful country in the world\"\n",
    "compiler = re.compile(r'\\b\\w{3,5}\\b')\n",
    "find = compiler.findall(text)\n",
    "print(find)"
   ]
  },
  {
   "cell_type": "code",
   "execution_count": 9,
   "id": "6cf9e812",
   "metadata": {},
   "outputs": [],
   "source": [
    "#   Question 5- Create a function in Python to remove the parenthesis in a list of strings.\n",
    " #                 The use of the re.compile() method is mandatory."
   ]
  },
  {
   "cell_type": "code",
   "execution_count": 10,
   "id": "dadc718e",
   "metadata": {},
   "outputs": [
    {
     "name": "stdout",
     "output_type": "stream",
     "text": [
      "['example', 'hr@fliprobo', 'github', 'Hello', 'Data']\n"
     ]
    }
   ],
   "source": [
    "Sample_Text = [\"example (.com)\", \"hr@fliprobo (.com)\", \"github (.com)\", \n",
    "               \"Hello (Data Science World)\", \"Data (Scientist)\"]\n",
    "\n",
    "compiler = re.compile (r'\\s*\\(.*\\)\\s*')\n",
    "cleaned = [compiler.sub('', string).strip() for string in Sample_Text]\n",
    "print(cleaned)"
   ]
  },
  {
   "cell_type": "code",
   "execution_count": 11,
   "id": "b967bbbc",
   "metadata": {},
   "outputs": [],
   "source": [
    "# Question 7- Write a regular expression in Python to split a string into uppercase letters.\n"
   ]
  },
  {
   "cell_type": "code",
   "execution_count": 12,
   "id": "9726e77c",
   "metadata": {},
   "outputs": [
    {
     "name": "stdout",
     "output_type": "stream",
     "text": [
      "['', 'Importance', 'Of', 'Regular', 'Expressions', 'In', 'Python']\n"
     ]
    }
   ],
   "source": [
    "text = \"ImportanceOfRegularExpressionsInPython\"\n",
    "pattern = re.compile(r'(?=[A-Z])')\n",
    "result = pattern.split(text)\n",
    "print(result)\n"
   ]
  },
  {
   "cell_type": "code",
   "execution_count": 13,
   "id": "a9504c4b",
   "metadata": {},
   "outputs": [],
   "source": [
    "# Question 8- Create a function in python to insert spaces between words starting with numbers.\n"
   ]
  },
  {
   "cell_type": "code",
   "execution_count": 14,
   "id": "da026907",
   "metadata": {},
   "outputs": [
    {
     "name": "stdout",
     "output_type": "stream",
     "text": [
      "RegularExpression1 IsAn2 ImportantTopic3 InPython\n"
     ]
    }
   ],
   "source": [
    "text = \"RegularExpression1IsAn2ImportantTopic3InPython\"\n",
    "pattern = re.compile(r'(\\d)([A-Za-z]+)')  \n",
    "result = pattern.sub(r'\\1 \\2', text)\n",
    "print(result)"
   ]
  },
  {
   "cell_type": "code",
   "execution_count": 15,
   "id": "7717cbd9",
   "metadata": {},
   "outputs": [],
   "source": [
    "#Question 10- Use the github link below to read the data and create a dataframe.\n",
    "#After creating the dataframe extract the first 6 letters of each country and store in the dataframe \n",
    "#under a new column called first_five_letters.\n",
    "#Github Link-  https://raw.githubusercontent.com/dsrscientist/DSData/master/happiness_score_dataset.csv\n",
    "\n",
    "\n"
   ]
  },
  {
   "cell_type": "code",
   "execution_count": 16,
   "id": "761d5df3",
   "metadata": {},
   "outputs": [],
   "source": [
    "url = \" https://raw.githubusercontent.com/dsrscientist/DSData/master/happiness_score_dataset.csv \"\n",
    "df = pd.read_csv(url)\n"
   ]
  },
  {
   "cell_type": "code",
   "execution_count": 17,
   "id": "2127acf3",
   "metadata": {},
   "outputs": [
    {
     "data": {
      "text/html": [
       "<div>\n",
       "<style scoped>\n",
       "    .dataframe tbody tr th:only-of-type {\n",
       "        vertical-align: middle;\n",
       "    }\n",
       "\n",
       "    .dataframe tbody tr th {\n",
       "        vertical-align: top;\n",
       "    }\n",
       "\n",
       "    .dataframe thead th {\n",
       "        text-align: right;\n",
       "    }\n",
       "</style>\n",
       "<table border=\"1\" class=\"dataframe\">\n",
       "  <thead>\n",
       "    <tr style=\"text-align: right;\">\n",
       "      <th></th>\n",
       "      <th>Country</th>\n",
       "      <th>Region</th>\n",
       "      <th>Happiness Rank</th>\n",
       "      <th>Happiness Score</th>\n",
       "      <th>Standard Error</th>\n",
       "      <th>Economy (GDP per Capita)</th>\n",
       "      <th>Family</th>\n",
       "      <th>Health (Life Expectancy)</th>\n",
       "      <th>Freedom</th>\n",
       "      <th>Trust (Government Corruption)</th>\n",
       "      <th>Generosity</th>\n",
       "      <th>Dystopia Residual</th>\n",
       "    </tr>\n",
       "  </thead>\n",
       "  <tbody>\n",
       "    <tr>\n",
       "      <th>0</th>\n",
       "      <td>Switzerland</td>\n",
       "      <td>Western Europe</td>\n",
       "      <td>1</td>\n",
       "      <td>7.587</td>\n",
       "      <td>0.03411</td>\n",
       "      <td>1.39651</td>\n",
       "      <td>1.34951</td>\n",
       "      <td>0.94143</td>\n",
       "      <td>0.66557</td>\n",
       "      <td>0.41978</td>\n",
       "      <td>0.29678</td>\n",
       "      <td>2.51738</td>\n",
       "    </tr>\n",
       "    <tr>\n",
       "      <th>1</th>\n",
       "      <td>Iceland</td>\n",
       "      <td>Western Europe</td>\n",
       "      <td>2</td>\n",
       "      <td>7.561</td>\n",
       "      <td>0.04884</td>\n",
       "      <td>1.30232</td>\n",
       "      <td>1.40223</td>\n",
       "      <td>0.94784</td>\n",
       "      <td>0.62877</td>\n",
       "      <td>0.14145</td>\n",
       "      <td>0.43630</td>\n",
       "      <td>2.70201</td>\n",
       "    </tr>\n",
       "  </tbody>\n",
       "</table>\n",
       "</div>"
      ],
      "text/plain": [
       "       Country          Region  Happiness Rank  Happiness Score  \\\n",
       "0  Switzerland  Western Europe               1            7.587   \n",
       "1      Iceland  Western Europe               2            7.561   \n",
       "\n",
       "   Standard Error  Economy (GDP per Capita)   Family  \\\n",
       "0         0.03411                   1.39651  1.34951   \n",
       "1         0.04884                   1.30232  1.40223   \n",
       "\n",
       "   Health (Life Expectancy)  Freedom  Trust (Government Corruption)  \\\n",
       "0                   0.94143  0.66557                        0.41978   \n",
       "1                   0.94784  0.62877                        0.14145   \n",
       "\n",
       "   Generosity  Dystopia Residual  \n",
       "0     0.29678            2.51738  \n",
       "1     0.43630            2.70201  "
      ]
     },
     "execution_count": 17,
     "metadata": {},
     "output_type": "execute_result"
    }
   ],
   "source": [
    "df.head(2)"
   ]
  },
  {
   "cell_type": "code",
   "execution_count": 18,
   "id": "f29a0abf",
   "metadata": {},
   "outputs": [
    {
     "data": {
      "text/plain": [
       "0    Switze\n",
       "1    Icelan\n",
       "2    Denmar\n",
       "3    Norway\n",
       "4    Canada\n",
       "5    Finlan\n",
       "Name: six_letter_country, dtype: object"
      ]
     },
     "execution_count": 18,
     "metadata": {},
     "output_type": "execute_result"
    }
   ],
   "source": [
    "df[\"six_letter_country\"] = df[\"Country\"].str.slice(0,6)\n",
    "df[\"six_letter_country\"].head(6)"
   ]
  },
  {
   "cell_type": "code",
   "execution_count": 19,
   "id": "d44a77f4",
   "metadata": {},
   "outputs": [],
   "source": [
    "# Question 11- Write a Python program to match a string that contains only upper and\n",
    "# lowercase letters, numbers, and underscores."
   ]
  },
  {
   "cell_type": "code",
   "execution_count": 20,
   "id": "8ef2ae86",
   "metadata": {},
   "outputs": [
    {
     "name": "stdout",
     "output_type": "stream",
     "text": [
      "'Hello_World123' is a valid string.\n",
      "'hello world!' is not a valid string.\n",
      "'123_ABC' is a valid string.\n",
      "'valid_string_1' is a valid string.\n",
      "'invalid-string!' is not a valid string.\n"
     ]
    }
   ],
   "source": [
    "def match_string(s):\n",
    "    return bool(re.match(r'^\\w+$', s))\n",
    "test_strings = [\"Hello_World123\", \"hello world!\", \"123_ABC\", \"valid_string_1\", \"invalid-string!\"]\n",
    "\n",
    "for s in test_strings:\n",
    "    if match_string(s):\n",
    "        print(f\"'{s}' is a valid string.\")\n",
    "    else:\n",
    "        print(f\"'{s}' is not a valid string.\")\n"
   ]
  },
  {
   "cell_type": "code",
   "execution_count": 21,
   "id": "bb9a6703",
   "metadata": {},
   "outputs": [],
   "source": [
    "#  Question 12- Write a Python program where a string will start with a specific number. "
   ]
  },
  {
   "cell_type": "code",
   "execution_count": 22,
   "id": "fc0b5008",
   "metadata": {},
   "outputs": [
    {
     "name": "stdout",
     "output_type": "stream",
     "text": [
      "The string '123_hello' starts with the number 123.\n"
     ]
    }
   ],
   "source": [
    "test_string = \"123_hello\"\n",
    "specific_number = \"123\"\n",
    "\n",
    "if test_string[:len(specific_number)] == specific_number:\n",
    "    print(f\"The string '{test_string}' starts with the number {specific_number}.\")\n",
    "else:\n",
    "    print(f\"The string '{test_string}' does not start with the number {specific_number}.\")\n",
    "\n"
   ]
  },
  {
   "cell_type": "code",
   "execution_count": 23,
   "id": "6502ab84",
   "metadata": {},
   "outputs": [],
   "source": [
    "#  Question 13- Write a Python program to remove leading zeros from an IP address"
   ]
  },
  {
   "cell_type": "code",
   "execution_count": 24,
   "id": "a5ad45fa",
   "metadata": {},
   "outputs": [
    {
     "name": "stdout",
     "output_type": "stream",
     "text": [
      "192.168.1.1\n"
     ]
    }
   ],
   "source": [
    "ip_address = \"192.168.001.001\"\n",
    "cleaned_ip = \".\".join(str(int(i)) for i in ip_address.split(\".\"))\n",
    "print(cleaned_ip)  \n"
   ]
  },
  {
   "cell_type": "code",
   "execution_count": 25,
   "id": "c0bd9825",
   "metadata": {},
   "outputs": [],
   "source": [
    "#Question 15- Write a Python program to search some literals strings in a string. \n",
    "#            Sample text : 'The quick brown fox jumps over the lazy dog.'\n",
    "#            Searched words : 'fox', 'dog', 'horse'"
   ]
  },
  {
   "cell_type": "code",
   "execution_count": 26,
   "id": "f3a3fc94",
   "metadata": {},
   "outputs": [
    {
     "name": "stdout",
     "output_type": "stream",
     "text": [
      "'fox' found in text: True\n",
      "'dog' found in text: True\n",
      "'horse' found in text: False\n"
     ]
    }
   ],
   "source": [
    "\n",
    "text = 'The quick brown fox jumps over the lazy dog.'\n",
    "search_words = ['fox', 'dog','horse']\n",
    "for word in search_words:\n",
    "    found = bool(re.search(rf'\\b{word}\\b', text))\n",
    "    print(f\"'{word}' found in text: {found}\")\n"
   ]
  },
  {
   "cell_type": "code",
   "execution_count": 27,
   "id": "5c1cd7b9",
   "metadata": {},
   "outputs": [],
   "source": [
    "# Question 16- Write a Python program to search a literals string in a string and also find \n",
    "#              the location within the original string where the pattern occurs\n",
    "#              Sample text : 'The quick brown fox jumps over the lazy dog.'\n",
    "#              Searched words : 'fox'\n"
   ]
  },
  {
   "cell_type": "code",
   "execution_count": 28,
   "id": "e10f1922",
   "metadata": {},
   "outputs": [
    {
     "name": "stdout",
     "output_type": "stream",
     "text": [
      "16\n"
     ]
    }
   ],
   "source": [
    "text = 'the quick brown fox jumps over the lazy dog '\n",
    "search_word = \"fox\"\n",
    "index_nu = text.find(search_word)\n",
    "print(index_nu)\n"
   ]
  },
  {
   "cell_type": "code",
   "execution_count": 29,
   "id": "038b8489",
   "metadata": {},
   "outputs": [],
   "source": [
    "# Question 17- Write a Python program to find the substrings within a string.\n",
    "#              Sample text : 'Python exercises, PHP exercises, C# exercises'\n",
    "#              Pattern : 'exercises'.\n"
   ]
  },
  {
   "cell_type": "code",
   "execution_count": 30,
   "id": "f4ed5b10",
   "metadata": {},
   "outputs": [
    {
     "name": "stdout",
     "output_type": "stream",
     "text": [
      " Found 'exercises'\n",
      " Found 'exercises'\n",
      " Found 'exercises'\n"
     ]
    }
   ],
   "source": [
    "sample_text = 'Python exercises, PHP exercises, C# exercises'\n",
    "pattern = 'exercises'\n",
    "matches = re.finditer(pattern, sample_text)\n",
    "for match in matches:\n",
    "    print(f\" Found '{pattern}'\")\n"
   ]
  },
  {
   "cell_type": "code",
   "execution_count": 31,
   "id": "36c470c8",
   "metadata": {},
   "outputs": [],
   "source": [
    "#  Question 18- Write a Python program to find the occurrence and position of the substrings within a string.  "
   ]
  },
  {
   "cell_type": "code",
   "execution_count": 32,
   "id": "d9647c39",
   "metadata": {},
   "outputs": [
    {
     "name": "stdout",
     "output_type": "stream",
     "text": [
      "Found 'Shri Ram' at position 1\n",
      "Found 'Shri Ram' at position 22\n"
     ]
    }
   ],
   "source": [
    "string = \" Shri Ram is revered. Shri Ram is worshipped.\"\n",
    "sub_string = \"Shri Ram\"\n",
    "matches = re.finditer(re.escape(sub_string), string)\n",
    "for match in matches:\n",
    "    print(f\"Found '{sub_string}' at position {match.start()}\")\n"
   ]
  },
  {
   "cell_type": "code",
   "execution_count": 33,
   "id": "031eb431",
   "metadata": {},
   "outputs": [],
   "source": [
    "# Question 19- Write a Python program to convert a date of yyyy-mm-dd format to dd-mm-yyyy format."
   ]
  },
  {
   "cell_type": "code",
   "execution_count": null,
   "id": "228aaa05",
   "metadata": {},
   "outputs": [],
   "source": []
  },
  {
   "cell_type": "code",
   "execution_count": 34,
   "id": "96fa8b3a",
   "metadata": {},
   "outputs": [
    {
     "name": "stdout",
     "output_type": "stream",
     "text": [
      "20-05-2024\n"
     ]
    }
   ],
   "source": [
    "Date = \"2024-05-20\"\n",
    "convert = pd.to_datetime(Date).strftime('%d-%m-%Y')\n",
    "print(convert)"
   ]
  },
  {
   "cell_type": "code",
   "execution_count": 35,
   "id": "64c5cd6a",
   "metadata": {},
   "outputs": [],
   "source": [
    "#  Question 20- Create a function in python to find all decimal numbers with a precision of 1 or 2 in a string. \n",
    "#                 The use of the re.compile() method is mandatory.\n",
    "#                  Sample Text: \"01.12 0132.123 2.31875 145.8 3.01 27.25 0.25\"\n",
    "#                   Expected Output: ['01.12', '145.8', '3.01', '27.25', '0.25']\n",
    "\n"
   ]
  },
  {
   "cell_type": "code",
   "execution_count": 36,
   "id": "d6d767db",
   "metadata": {},
   "outputs": [
    {
     "name": "stdout",
     "output_type": "stream",
     "text": [
      "['01.12', '145.8', '3.01', '27.25', '0.25']\n"
     ]
    }
   ],
   "source": [
    "text = \"01.12 0132.123 2.31875 145.8 3.01 27.25 0.25\"\n",
    "\n",
    "pattern = re.compile(r'\\b\\d+\\.\\d{1,2}\\b')\n",
    "decimal_n= pattern.findall(text)\n",
    "\n",
    "print(decimal_n)\n"
   ]
  },
  {
   "cell_type": "code",
   "execution_count": 37,
   "id": "e61ae889",
   "metadata": {},
   "outputs": [],
   "source": [
    "# Question 21- Write a Python program to separate and print the numbers and their position of a given string"
   ]
  },
  {
   "cell_type": "code",
   "execution_count": 38,
   "id": "11c69a72",
   "metadata": {},
   "outputs": [
    {
     "name": "stdout",
     "output_type": "stream",
     "text": [
      "Number: 123, Position: 3\n",
      "Number: 45, Position: 11\n",
      "Number: 12, Position: 15\n",
      "Number: 45, Position: 20\n"
     ]
    }
   ],
   "source": [
    "import re\n",
    "string = \"abc123gajju45is12not45number\"\n",
    "com = re.compile(r'\\d+')\n",
    "matches = com.finditer(string)\n",
    "for match in matches:\n",
    "    print(f\"Number: {match.group()}, Position: {match.start()}\")\n"
   ]
  },
  {
   "cell_type": "code",
   "execution_count": 39,
   "id": "fe8fecfb",
   "metadata": {},
   "outputs": [],
   "source": [
    "#  Question 22- Write a regular expression in python program to extract maximum/largest numeric value from a string.\n",
    "#                Sample Text:  'My marks in each semester are: 947, 896, 926, 524, 734, 950, 642'\n",
    "#                 Expected Output: 950\n"
   ]
  },
  {
   "cell_type": "code",
   "execution_count": 40,
   "id": "40195baf",
   "metadata": {},
   "outputs": [
    {
     "name": "stdout",
     "output_type": "stream",
     "text": [
      "950\n"
     ]
    }
   ],
   "source": [
    "sample_text = \"My marks in each semester are: 947, 896, 926, 524, 734, 950, 642\"\n",
    "numbers = re.findall(r'\\d+', sample_text)\n",
    "max_n = pd.Series(numbers).astype(int).max()\n",
    "print(max_n)\n"
   ]
  },
  {
   "cell_type": "code",
   "execution_count": 41,
   "id": "5b03b985",
   "metadata": {},
   "outputs": [],
   "source": [
    "# Question 23- Create a function in python to insert spaces between words starting with capital letters.\n",
    "#               Sample Text: “RegularExpressionIsAnImportantTopicInPython\"\n",
    "#               Expected Output: Regular Expression Is An Important Topic In Python\n",
    "\n"
   ]
  },
  {
   "cell_type": "code",
   "execution_count": 42,
   "id": "a1d4676b",
   "metadata": {},
   "outputs": [
    {
     "name": "stdout",
     "output_type": "stream",
     "text": [
      "Regular Expression Is An Important Topic In Python\n"
     ]
    }
   ],
   "source": [
    "def insert_spaces(text):\n",
    "    return re.sub(r'(?<=[a-z])([A-Z])', r' \\1', text)\n",
    "s_text = \"RegularExpressionIsAnImportantTopicInPython\"\n",
    "\n",
    "output = insert_spaces(s_text)\n",
    "print(output)"
   ]
  },
  {
   "cell_type": "code",
   "execution_count": 43,
   "id": "d8fca5c6",
   "metadata": {},
   "outputs": [],
   "source": [
    "# Question 24- Python regex to find sequences of one upper case letter followed by lower case letters"
   ]
  },
  {
   "cell_type": "code",
   "execution_count": 44,
   "id": "549d99fb",
   "metadata": {},
   "outputs": [
    {
     "name": "stdout",
     "output_type": "stream",
     "text": [
      "['This', 'Sample', 'Containing', 'Several', 'Sequences', 'Upper', 'Lower', 'Case', 'Letters']\n"
     ]
    }
   ],
   "source": [
    "text = \"This is a Sample text Containing Several Sequences of Upper and Lower Case Letters.\"\n",
    "foll = r'[A-Z][a-z]+'\n",
    "sequence = re.findall(foll, text)\n",
    "print(sequence)"
   ]
  },
  {
   "cell_type": "code",
   "execution_count": 45,
   "id": "c2eb7ce0",
   "metadata": {},
   "outputs": [],
   "source": [
    "# "
   ]
  },
  {
   "cell_type": "code",
   "execution_count": 46,
   "id": "6930e377",
   "metadata": {},
   "outputs": [
    {
     "name": "stdout",
     "output_type": "stream",
     "text": [
      "Hello hello world\n"
     ]
    }
   ],
   "source": [
    "text = \"Hello hello world world\"\n",
    "output = re.sub(r'\\b(\\w+)(\\s+\\1)+\\b',r'\\1',text)\n",
    "print(output)"
   ]
  },
  {
   "cell_type": "code",
   "execution_count": 47,
   "id": "26ce854d",
   "metadata": {},
   "outputs": [],
   "source": [
    "# Question 26-  Write a python program using RegEx to accept string ending with alphanumeric character.\n",
    "\n"
   ]
  },
  {
   "cell_type": "code",
   "execution_count": 51,
   "id": "cfb2ec56",
   "metadata": {},
   "outputs": [
    {
     "name": "stdout",
     "output_type": "stream",
     "text": [
      "Enter a string  @gajju9569\n",
      "String ends with an alphanumeric character.\n"
     ]
    }
   ],
   "source": [
    "input_s = input(\"Enter a string  \")\n",
    "pattern = r'\\w$'\n",
    "if re.search(pattern, input_s):\n",
    "    print(\"String ends with an alphanumeric character.\")\n",
    "else:\n",
    "    print(\"String does not end with an alphanumeric character.\")\n"
   ]
  },
  {
   "cell_type": "code",
   "execution_count": 49,
   "id": "b9a02f64",
   "metadata": {},
   "outputs": [],
   "source": [
    "#Question 27-Write a python program using RegEx to extract the hashtags.\n",
    "#Sample Text:  \"\"\"RT @kapil_kausik: #Doltiwal I mean #xyzabc is \"hurt\" by #Demonetization as \n",
    "#  the same has rendered USELESS <ed><U+00A0><U+00BD><ed><U+00B1><U+0089> \"acquired funds\" No wo\"\"\"\n",
    "#  Expected Output: ['#Doltiwal', '#xyzabc', '#Demonetization']\n",
    "\n"
   ]
  },
  {
   "cell_type": "code",
   "execution_count": 52,
   "id": "f0106c04",
   "metadata": {},
   "outputs": [
    {
     "name": "stdout",
     "output_type": "stream",
     "text": [
      "['#Doltiwal', '#xyzabc', '#Demonetization']\n"
     ]
    }
   ],
   "source": [
    "text = \"RT @kapil_kausik: #Doltiwal I mean #xyzabc is hurt by #Demonetization as the same has rendered USELESS <ed><U+00A0><U+00BD><ed><U+00B1><U+0089> acquired funds No wo\"\n",
    "pattern = r'#\\w+'\n",
    "hashtags = re.findall(pattern, text)\n",
    "print(hashtags)\n"
   ]
  },
  {
   "cell_type": "code",
   "execution_count": null,
   "id": "f6b14e6f",
   "metadata": {},
   "outputs": [],
   "source": [
    "# Question 28- Write a python program using RegEx to remove <U+..> like symbols\n",
    "# Check the below sample text, there are strange symbols something of the sort <U+..> all over the place. You need to come up with a general Regex expression that will cover all such symbols.\n",
    "# Sample Text: \"@Jags123456 Bharat band on 28??<ed><U+00A0><U+00BD><ed><U+00B8><U+0082>Those who  are protesting #demonetization  are all different party leaders\"\n",
    "# Expected Output: @Jags123456 Bharat band on 28??<ed><ed>Those who  are protesting #demonetization  are all different party leaders\n"
   ]
  },
  {
   "cell_type": "code",
   "execution_count": 53,
   "id": "162d9940",
   "metadata": {},
   "outputs": [
    {
     "name": "stdout",
     "output_type": "stream",
     "text": [
      "@Jags123456 Bharat band on 28??<ed><ed>Those who are protesting #demonetization are all different party leaders\n"
     ]
    }
   ],
   "source": [
    "text = \"@Jags123456 Bharat band on 28??<ed><U+00A0><U+00BD><ed><U+00B8><U+0082>Those who are protesting #demonetization are all different party leaders\"\n",
    "pattern = r'<U\\+\\w+>'\n",
    "clean_text = re.sub(pattern, '', text)\n",
    "print(clean_text)\n"
   ]
  },
  {
   "cell_type": "code",
   "execution_count": 54,
   "id": "ff01dd27",
   "metadata": {},
   "outputs": [],
   "source": [
    "#Question 30- Create a function in python to remove all words from a string of length between 2 and 4.\n",
    "#The use of the re.compile() method is mandatory.\n",
    "#Sample Text: \"The following example creates an ArrayList with a capacity of 50 elements. 4 elements are then added to the ArrayList and the ArrayList is trimmed accordingly.\"\n",
    "#Expected Output:  following example creates ArrayList a capacity elements. 4 elements added ArrayList ArrayList trimmed accordingly.\n"
   ]
  },
  {
   "cell_type": "code",
   "execution_count": 55,
   "id": "96aa7ea2",
   "metadata": {},
   "outputs": [
    {
     "name": "stdout",
     "output_type": "stream",
     "text": [
      " following example creates  ArrayList  a capacity   elements. 4 elements   added   ArrayList   ArrayList  trimmed accordingly.\n"
     ]
    }
   ],
   "source": [
    "def remove_words(text):\n",
    "    pattern = re.compile(r'\\b\\w{2,4}\\b')\n",
    "    return pattern.sub('', text)\n",
    "sample_text = \"The following example creates an ArrayList with a capacity of 50 elements. 4 elements are then added to the ArrayList and the ArrayList is trimmed accordingly.\"\n",
    "output = remove_words(sample_text)\n",
    "print(output)\n"
   ]
  },
  {
   "cell_type": "code",
   "execution_count": null,
   "id": "339e4266",
   "metadata": {},
   "outputs": [],
   "source": []
  }
 ],
 "metadata": {
  "kernelspec": {
   "display_name": "Python 3 (ipykernel)",
   "language": "python",
   "name": "python3"
  },
  "language_info": {
   "codemirror_mode": {
    "name": "ipython",
    "version": 3
   },
   "file_extension": ".py",
   "mimetype": "text/x-python",
   "name": "python",
   "nbconvert_exporter": "python",
   "pygments_lexer": "ipython3",
   "version": "3.11.7"
  }
 },
 "nbformat": 4,
 "nbformat_minor": 5
}
